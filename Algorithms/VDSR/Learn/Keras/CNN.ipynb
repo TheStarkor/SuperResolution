{
 "cells": [
  {
   "cell_type": "code",
   "execution_count": 1,
   "metadata": {},
   "outputs": [
    {
     "name": "stderr",
     "output_type": "stream",
     "text": [
      "Using TensorFlow backend.\n"
     ]
    }
   ],
   "source": [
    "import numpy as np\n",
    "from keras.models import Sequential\n",
    "from keras.layers import Dense\n",
    "from keras.layers import Flatten\n",
    "from keras.layers.convolutional import Conv2D\n",
    "from keras.layers.convolutional import MaxPooling2D\n",
    "from keras.preprocessing.image import ImageDataGenerator\n",
    "\n",
    "# 랜덤시드 고정시키기\n",
    "np.random.seed(3)\n"
   ]
  },
  {
   "cell_type": "code",
   "execution_count": 2,
   "metadata": {},
   "outputs": [
    {
     "name": "stdout",
     "output_type": "stream",
     "text": [
      "Found 45 images belonging to 3 classes.\n",
      "Found 15 images belonging to 3 classes.\n"
     ]
    }
   ],
   "source": [
    "train_datagen = ImageDataGenerator(rescale=1./255)\n",
    "\n",
    "train_generator = train_datagen.flow_from_directory(\n",
    "    './handwriting_shape/train',\n",
    "    target_size=(24, 24),\n",
    "    batch_size=3,\n",
    "    class_mode='categorical')\n",
    "\n",
    "test_datagen = ImageDataGenerator(rescale=1./255)\n",
    "\n",
    "test_generator = test_datagen.flow_from_directory(\n",
    "    './handwriting_shape/test',\n",
    "    target_size=(24, 24),\n",
    "    batch_size=3,\n",
    "    class_mode='categorical')"
   ]
  },
  {
   "cell_type": "code",
   "execution_count": 3,
   "metadata": {},
   "outputs": [],
   "source": [
    "model = Sequential()\n",
    "model.add(Conv2D(32, kernel_size=(3, 3),\n",
    "                 activation='relu',\n",
    "                 input_shape=(24,24,3)))\n",
    "model.add(Conv2D(64, (3, 3), activation='relu'))\n",
    "model.add(MaxPooling2D(pool_size=(2, 2)))\n",
    "model.add(Flatten())\n",
    "model.add(Dense(128, activation='relu'))\n",
    "model.add(Dense(3, activation='softmax'))\n"
   ]
  },
  {
   "cell_type": "code",
   "execution_count": 4,
   "metadata": {},
   "outputs": [],
   "source": [
    "model.compile(loss='categorical_crossentropy', optimizer='adam', metrics=['accuracy'])"
   ]
  },
  {
   "cell_type": "code",
   "execution_count": 5,
   "metadata": {},
   "outputs": [
    {
     "name": "stdout",
     "output_type": "stream",
     "text": [
      "Epoch 1/100\n",
      "15/15 [==============================] - 1s 64ms/step - loss: 0.8232 - accuracy: 0.6444 - val_loss: 0.3354 - val_accuracy: 0.9333\n",
      "Epoch 2/100\n",
      "15/15 [==============================] - 0s 23ms/step - loss: 0.1290 - accuracy: 0.9778 - val_loss: 0.0312 - val_accuracy: 0.9333\n",
      "Epoch 3/100\n",
      "15/15 [==============================] - 0s 33ms/step - loss: 0.0111 - accuracy: 1.0000 - val_loss: 0.0069 - val_accuracy: 0.9333\n",
      "Epoch 4/100\n",
      "15/15 [==============================] - 1s 66ms/step - loss: 0.0173 - accuracy: 1.0000 - val_loss: 3.0317e-04 - val_accuracy: 1.0000\n",
      "Epoch 5/100\n",
      "15/15 [==============================] - 1s 48ms/step - loss: 0.0042 - accuracy: 1.0000 - val_loss: 0.0077 - val_accuracy: 1.0000\n",
      "Epoch 6/100\n",
      "15/15 [==============================] - 0s 26ms/step - loss: 6.3557e-04 - accuracy: 1.0000 - val_loss: 9.1786e-05 - val_accuracy: 1.0000\n",
      "Epoch 7/100\n",
      "15/15 [==============================] - 1s 44ms/step - loss: 2.6595e-04 - accuracy: 1.0000 - val_loss: 6.0528e-04 - val_accuracy: 1.0000\n",
      "Epoch 8/100\n",
      "15/15 [==============================] - 0s 12ms/step - loss: 1.8781e-04 - accuracy: 1.0000 - val_loss: 0.1590 - val_accuracy: 1.0000\n",
      "Epoch 9/100\n",
      "15/15 [==============================] - 0s 22ms/step - loss: 1.4785e-04 - accuracy: 1.0000 - val_loss: 0.0953 - val_accuracy: 1.0000\n",
      "Epoch 10/100\n",
      "15/15 [==============================] - 0s 16ms/step - loss: 1.1914e-04 - accuracy: 1.0000 - val_loss: 0.0031 - val_accuracy: 1.0000\n",
      "Epoch 11/100\n",
      "15/15 [==============================] - 0s 26ms/step - loss: 1.0199e-04 - accuracy: 1.0000 - val_loss: 0.1367 - val_accuracy: 1.0000\n",
      "Epoch 12/100\n",
      "15/15 [==============================] - 0s 26ms/step - loss: 8.9759e-05 - accuracy: 1.0000 - val_loss: 0.1346 - val_accuracy: 1.0000\n",
      "Epoch 13/100\n",
      "15/15 [==============================] - 1s 34ms/step - loss: 7.8335e-05 - accuracy: 1.0000 - val_loss: 0.1311 - val_accuracy: 1.0000\n",
      "Epoch 14/100\n",
      "15/15 [==============================] - 1s 46ms/step - loss: 6.9485e-05 - accuracy: 1.0000 - val_loss: 4.1210e-04 - val_accuracy: 1.0000\n",
      "Epoch 15/100\n",
      "15/15 [==============================] - 0s 28ms/step - loss: 6.3078e-05 - accuracy: 1.0000 - val_loss: 0.0027 - val_accuracy: 1.0000\n",
      "Epoch 16/100\n",
      "15/15 [==============================] - 0s 27ms/step - loss: 5.7000e-05 - accuracy: 1.0000 - val_loss: 2.9921e-05 - val_accuracy: 1.0000\n",
      "Epoch 17/100\n",
      "15/15 [==============================] - 0s 30ms/step - loss: 5.1284e-05 - accuracy: 1.0000 - val_loss: 0.2055 - val_accuracy: 1.0000\n",
      "Epoch 18/100\n",
      "15/15 [==============================] - 1s 35ms/step - loss: 4.7208e-05 - accuracy: 1.0000 - val_loss: 3.3820e-04 - val_accuracy: 1.0000\n",
      "Epoch 19/100\n",
      "15/15 [==============================] - 1s 44ms/step - loss: 4.3431e-05 - accuracy: 1.0000 - val_loss: 0.0725 - val_accuracy: 1.0000\n",
      "Epoch 20/100\n",
      "15/15 [==============================] - 1s 47ms/step - loss: 3.9151e-05 - accuracy: 1.0000 - val_loss: 3.0750e-04 - val_accuracy: 1.0000\n",
      "Epoch 21/100\n",
      "15/15 [==============================] - 1s 44ms/step - loss: 3.6568e-05 - accuracy: 1.0000 - val_loss: 6.7949e-06 - val_accuracy: 1.0000\n",
      "Epoch 22/100\n",
      "15/15 [==============================] - 1s 57ms/step - loss: 3.3930e-05 - accuracy: 1.0000 - val_loss: 0.0025 - val_accuracy: 1.0000\n",
      "Epoch 23/100\n",
      "15/15 [==============================] - 1s 40ms/step - loss: 3.1260e-05 - accuracy: 1.0000 - val_loss: 1.7881e-05 - val_accuracy: 1.0000\n",
      "Epoch 24/100\n",
      "15/15 [==============================] - 1s 61ms/step - loss: 2.9456e-05 - accuracy: 1.0000 - val_loss: 8.0665e-06 - val_accuracy: 1.0000\n",
      "Epoch 25/100\n",
      "15/15 [==============================] - 0s 26ms/step - loss: 2.7642e-05 - accuracy: 1.0000 - val_loss: 1.4861e-05 - val_accuracy: 1.0000\n",
      "Epoch 26/100\n",
      "15/15 [==============================] - 0s 21ms/step - loss: 2.5817e-05 - accuracy: 1.0000 - val_loss: 0.0021 - val_accuracy: 1.0000\n",
      "Epoch 27/100\n",
      "15/15 [==============================] - 0s 31ms/step - loss: 2.4225e-05 - accuracy: 1.0000 - val_loss: 0.0614 - val_accuracy: 1.0000\n",
      "Epoch 28/100\n",
      "15/15 [==============================] - 1s 34ms/step - loss: 2.2744e-05 - accuracy: 1.0000 - val_loss: 0.0020 - val_accuracy: 1.0000\n",
      "Epoch 29/100\n",
      "15/15 [==============================] - 0s 23ms/step - loss: 2.1579e-05 - accuracy: 1.0000 - val_loss: 0.0604 - val_accuracy: 1.0000\n",
      "Epoch 30/100\n",
      "15/15 [==============================] - 0s 19ms/step - loss: 2.0416e-05 - accuracy: 1.0000 - val_loss: 1.0848e-05 - val_accuracy: 1.0000\n",
      "Epoch 31/100\n",
      "15/15 [==============================] - 0s 17ms/step - loss: 1.9250e-05 - accuracy: 1.0000 - val_loss: 0.1828 - val_accuracy: 1.0000\n",
      "Epoch 32/100\n",
      "15/15 [==============================] - 0s 29ms/step - loss: 1.8344e-05 - accuracy: 1.0000 - val_loss: 2.3174e-04 - val_accuracy: 1.0000\n",
      "Epoch 33/100\n",
      "15/15 [==============================] - 0s 18ms/step - loss: 1.7367e-05 - accuracy: 1.0000 - val_loss: 4.5697e-06 - val_accuracy: 1.0000\n",
      "Epoch 34/100\n",
      "15/15 [==============================] - 0s 25ms/step - loss: 1.6493e-05 - accuracy: 1.0000 - val_loss: 0.1258 - val_accuracy: 1.0000\n",
      "Epoch 35/100\n",
      "15/15 [==============================] - 0s 15ms/step - loss: 1.5685e-05 - accuracy: 1.0000 - val_loss: 0.0018 - val_accuracy: 1.0000\n",
      "Epoch 36/100\n",
      "15/15 [==============================] - 0s 30ms/step - loss: 1.4996e-05 - accuracy: 1.0000 - val_loss: 0.0018 - val_accuracy: 1.0000\n",
      "Epoch 37/100\n",
      "15/15 [==============================] - 0s 17ms/step - loss: 1.4284e-05 - accuracy: 1.0000 - val_loss: 2.1574e-04 - val_accuracy: 1.0000\n",
      "Epoch 38/100\n",
      "15/15 [==============================] - 0s 27ms/step - loss: 1.3733e-05 - accuracy: 1.0000 - val_loss: 0.1237 - val_accuracy: 1.0000\n",
      "Epoch 39/100\n",
      "15/15 [==============================] - 1s 36ms/step - loss: 1.3054e-05 - accuracy: 1.0000 - val_loss: 0.0499 - val_accuracy: 1.0000\n",
      "Epoch 40/100\n",
      "15/15 [==============================] - 1s 34ms/step - loss: 1.2564e-05 - accuracy: 1.0000 - val_loss: 0.0018 - val_accuracy: 1.0000\n",
      "Epoch 41/100\n",
      "15/15 [==============================] - 1s 42ms/step - loss: 1.1984e-05 - accuracy: 1.0000 - val_loss: 1.1722e-05 - val_accuracy: 1.0000\n",
      "Epoch 42/100\n",
      "15/15 [==============================] - 0s 30ms/step - loss: 1.1444e-05 - accuracy: 1.0000 - val_loss: 0.0017 - val_accuracy: 1.0000\n",
      "Epoch 43/100\n",
      "15/15 [==============================] - 1s 45ms/step - loss: 1.1009e-05 - accuracy: 1.0000 - val_loss: 0.0476 - val_accuracy: 1.0000\n",
      "Epoch 44/100\n",
      "15/15 [==============================] - 1s 49ms/step - loss: 1.0604e-05 - accuracy: 1.0000 - val_loss: 9.2188e-06 - val_accuracy: 1.0000\n",
      "Epoch 45/100\n",
      "15/15 [==============================] - 1s 38ms/step - loss: 1.0143e-05 - accuracy: 1.0000 - val_loss: 3.6160e-06 - val_accuracy: 1.0000\n",
      "Epoch 46/100\n",
      "15/15 [==============================] - 1s 56ms/step - loss: 9.7617e-06 - accuracy: 1.0000 - val_loss: 2.0125e-04 - val_accuracy: 1.0000\n",
      "Epoch 47/100\n",
      "15/15 [==============================] - 1s 41ms/step - loss: 9.3829e-06 - accuracy: 1.0000 - val_loss: 6.6757e-06 - val_accuracy: 1.0000\n",
      "Epoch 48/100\n",
      "15/15 [==============================] - 1s 41ms/step - loss: 9.0598e-06 - accuracy: 1.0000 - val_loss: 0.0445 - val_accuracy: 1.0000\n",
      "Epoch 49/100\n",
      "15/15 [==============================] - 0s 32ms/step - loss: 8.7154e-06 - accuracy: 1.0000 - val_loss: 1.3113e-06 - val_accuracy: 1.0000\n",
      "Epoch 50/100\n",
      "15/15 [==============================] - 1s 38ms/step - loss: 8.4108e-06 - accuracy: 1.0000 - val_loss: 6.0797e-06 - val_accuracy: 1.0000\n",
      "Epoch 51/100\n",
      "15/15 [==============================] - 0s 29ms/step - loss: 8.1750e-06 - accuracy: 1.0000 - val_loss: 0.0422 - val_accuracy: 1.0000\n",
      "Epoch 52/100\n",
      "15/15 [==============================] - 1s 44ms/step - loss: 7.8412e-06 - accuracy: 1.0000 - val_loss: 3.6160e-06 - val_accuracy: 1.0000\n",
      "Epoch 53/100\n",
      "15/15 [==============================] - 1s 33ms/step - loss: 7.5154e-06 - accuracy: 1.0000 - val_loss: 1.8874e-04 - val_accuracy: 1.0000\n",
      "Epoch 54/100\n",
      "15/15 [==============================] - 1s 46ms/step - loss: 7.2319e-06 - accuracy: 1.0000 - val_loss: 4.1723e-06 - val_accuracy: 1.0000\n",
      "Epoch 55/100\n",
      "15/15 [==============================] - 1s 43ms/step - loss: 6.9061e-06 - accuracy: 1.0000 - val_loss: 1.1921e-06 - val_accuracy: 1.0000\n",
      "Epoch 56/100\n"
     ]
    },
    {
     "name": "stdout",
     "output_type": "stream",
     "text": [
      "15/15 [==============================] - 1s 47ms/step - loss: 6.5856e-06 - accuracy: 1.0000 - val_loss: 1.7726e-04 - val_accuracy: 1.0000\n",
      "Epoch 57/100\n",
      "15/15 [==============================] - 0s 31ms/step - loss: 6.2915e-06 - accuracy: 1.0000 - val_loss: 0.1192 - val_accuracy: 1.0000\n",
      "Epoch 58/100\n",
      "15/15 [==============================] - 0s 33ms/step - loss: 5.9630e-06 - accuracy: 1.0000 - val_loss: 2.8213e-06 - val_accuracy: 1.0000\n",
      "Epoch 59/100\n",
      "15/15 [==============================] - 1s 41ms/step - loss: 5.6637e-06 - accuracy: 1.0000 - val_loss: 1.7138e-04 - val_accuracy: 1.0000\n",
      "Epoch 60/100\n",
      "15/15 [==============================] - 0s 32ms/step - loss: 5.4226e-06 - accuracy: 1.0000 - val_loss: 0.0413 - val_accuracy: 1.0000\n",
      "Epoch 61/100\n",
      "15/15 [==============================] - 0s 17ms/step - loss: 5.2081e-06 - accuracy: 1.0000 - val_loss: 2.6623e-06 - val_accuracy: 1.0000\n",
      "Epoch 62/100\n",
      "15/15 [==============================] - 0s 12ms/step - loss: 4.9776e-06 - accuracy: 1.0000 - val_loss: 0.0017 - val_accuracy: 1.0000\n",
      "Epoch 63/100\n",
      "15/15 [==============================] - 1s 40ms/step - loss: 4.7869e-06 - accuracy: 1.0000 - val_loss: 9.9341e-07 - val_accuracy: 1.0000\n",
      "Epoch 64/100\n",
      "15/15 [==============================] - 1s 51ms/step - loss: 4.5802e-06 - accuracy: 1.0000 - val_loss: 2.3842e-06 - val_accuracy: 1.0000\n",
      "Epoch 65/100\n",
      "15/15 [==============================] - 0s 19ms/step - loss: 4.4160e-06 - accuracy: 1.0000 - val_loss: 2.5431e-06 - val_accuracy: 1.0000\n",
      "Epoch 66/100\n",
      "15/15 [==============================] - 1s 36ms/step - loss: 4.2491e-06 - accuracy: 1.0000 - val_loss: 0.1218 - val_accuracy: 1.0000\n",
      "Epoch 67/100\n",
      "15/15 [==============================] - 1s 38ms/step - loss: 4.1326e-06 - accuracy: 1.0000 - val_loss: 0.0384 - val_accuracy: 1.0000\n",
      "Epoch 68/100\n",
      "15/15 [==============================] - 0s 15ms/step - loss: 3.9975e-06 - accuracy: 1.0000 - val_loss: 0.1210 - val_accuracy: 1.0000\n",
      "Epoch 69/100\n",
      "15/15 [==============================] - 0s 24ms/step - loss: 3.8518e-06 - accuracy: 1.0000 - val_loss: 6.1989e-06 - val_accuracy: 1.0000\n",
      "Epoch 70/100\n",
      "15/15 [==============================] - 1s 43ms/step - loss: 3.7802e-06 - accuracy: 1.0000 - val_loss: 1.5220e-04 - val_accuracy: 1.0000\n",
      "Epoch 71/100\n",
      "15/15 [==============================] - 0s 27ms/step - loss: 3.6107e-06 - accuracy: 1.0000 - val_loss: 0.0384 - val_accuracy: 1.0000\n",
      "Epoch 72/100\n",
      "15/15 [==============================] - 0s 32ms/step - loss: 3.5233e-06 - accuracy: 1.0000 - val_loss: 0.1204 - val_accuracy: 1.0000\n",
      "Epoch 73/100\n",
      "15/15 [==============================] - 1s 51ms/step - loss: 3.4173e-06 - accuracy: 1.0000 - val_loss: 2.1060e-06 - val_accuracy: 1.0000\n",
      "Epoch 74/100\n",
      "15/15 [==============================] - 1s 45ms/step - loss: 3.3140e-06 - accuracy: 1.0000 - val_loss: 0.0360 - val_accuracy: 1.0000\n",
      "Epoch 75/100\n",
      "15/15 [==============================] - 0s 22ms/step - loss: 3.2319e-06 - accuracy: 1.0000 - val_loss: 2.4239e-06 - val_accuracy: 1.0000\n",
      "Epoch 76/100\n",
      "15/15 [==============================] - 0s 26ms/step - loss: 3.1365e-06 - accuracy: 1.0000 - val_loss: 1.4437e-04 - val_accuracy: 1.0000\n",
      "Epoch 77/100\n",
      "15/15 [==============================] - 0s 28ms/step - loss: 3.0597e-06 - accuracy: 1.0000 - val_loss: 0.0345 - val_accuracy: 1.0000\n",
      "Epoch 78/100\n",
      "15/15 [==============================] - 1s 42ms/step - loss: 2.9696e-06 - accuracy: 1.0000 - val_loss: 1.4171e-04 - val_accuracy: 1.0000\n",
      "Epoch 79/100\n",
      "15/15 [==============================] - 0s 29ms/step - loss: 2.8901e-06 - accuracy: 1.0000 - val_loss: 0.0359 - val_accuracy: 1.0000\n",
      "Epoch 80/100\n",
      "15/15 [==============================] - 1s 45ms/step - loss: 2.8186e-06 - accuracy: 1.0000 - val_loss: 1.4127e-04 - val_accuracy: 1.0000\n",
      "Epoch 81/100\n",
      "15/15 [==============================] - 0s 25ms/step - loss: 2.7577e-06 - accuracy: 1.0000 - val_loss: 0.0330 - val_accuracy: 1.0000\n",
      "Epoch 82/100\n",
      "15/15 [==============================] - 1s 49ms/step - loss: 2.6809e-06 - accuracy: 1.0000 - val_loss: 1.3814e-04 - val_accuracy: 1.0000\n",
      "Epoch 83/100\n",
      "15/15 [==============================] - 0s 19ms/step - loss: 2.6146e-06 - accuracy: 1.0000 - val_loss: 0.0014 - val_accuracy: 1.0000\n",
      "Epoch 84/100\n",
      "15/15 [==============================] - 1s 42ms/step - loss: 2.5484e-06 - accuracy: 1.0000 - val_loss: 0.1203 - val_accuracy: 1.0000\n",
      "Epoch 85/100\n",
      "15/15 [==============================] - 0s 32ms/step - loss: 2.4822e-06 - accuracy: 1.0000 - val_loss: 0.0013 - val_accuracy: 1.0000\n",
      "Epoch 86/100\n",
      "15/15 [==============================] - 1s 38ms/step - loss: 2.4372e-06 - accuracy: 1.0000 - val_loss: 0.0013 - val_accuracy: 1.0000\n",
      "Epoch 87/100\n",
      "15/15 [==============================] - 0s 17ms/step - loss: 2.3709e-06 - accuracy: 1.0000 - val_loss: 0.1518 - val_accuracy: 1.0000\n",
      "Epoch 88/100\n",
      "15/15 [==============================] - 1s 47ms/step - loss: 2.3179e-06 - accuracy: 1.0000 - val_loss: 0.1512 - val_accuracy: 1.0000\n",
      "Epoch 89/100\n",
      "15/15 [==============================] - 0s 26ms/step - loss: 2.2650e-06 - accuracy: 1.0000 - val_loss: 0.0318 - val_accuracy: 1.0000\n",
      "Epoch 90/100\n",
      "15/15 [==============================] - 0s 22ms/step - loss: 2.2120e-06 - accuracy: 1.0000 - val_loss: 0.0317 - val_accuracy: 1.0000\n",
      "Epoch 91/100\n",
      "15/15 [==============================] - 0s 16ms/step - loss: 2.1564e-06 - accuracy: 1.0000 - val_loss: 1.3113e-06 - val_accuracy: 1.0000\n",
      "Epoch 92/100\n",
      "15/15 [==============================] - 0s 26ms/step - loss: 2.1166e-06 - accuracy: 1.0000 - val_loss: 1.5100e-06 - val_accuracy: 1.0000\n",
      "Epoch 93/100\n",
      "15/15 [==============================] - 0s 26ms/step - loss: 2.0769e-06 - accuracy: 1.0000 - val_loss: 1.2716e-06 - val_accuracy: 1.0000\n",
      "Epoch 94/100\n",
      "15/15 [==============================] - 1s 44ms/step - loss: 2.0371e-06 - accuracy: 1.0000 - val_loss: 0.1199 - val_accuracy: 1.0000\n",
      "Epoch 95/100\n",
      "15/15 [==============================] - 1s 36ms/step - loss: 1.9789e-06 - accuracy: 1.0000 - val_loss: 0.1190 - val_accuracy: 1.0000\n",
      "Epoch 96/100\n",
      "15/15 [==============================] - 0s 26ms/step - loss: 1.9418e-06 - accuracy: 1.0000 - val_loss: 0.1186 - val_accuracy: 1.0000\n",
      "Epoch 97/100\n",
      "15/15 [==============================] - 0s 23ms/step - loss: 1.8914e-06 - accuracy: 1.0000 - val_loss: 6.7552e-07 - val_accuracy: 1.0000\n",
      "Epoch 98/100\n",
      "15/15 [==============================] - 0s 22ms/step - loss: 1.8623e-06 - accuracy: 1.0000 - val_loss: 0.0013 - val_accuracy: 1.0000\n",
      "Epoch 99/100\n",
      "15/15 [==============================] - 0s 15ms/step - loss: 1.8226e-06 - accuracy: 1.0000 - val_loss: 0.0291 - val_accuracy: 1.0000\n",
      "Epoch 100/100\n",
      "15/15 [==============================] - 0s 28ms/step - loss: 1.7934e-06 - accuracy: 1.0000 - val_loss: 7.9473e-07 - val_accuracy: 1.0000\n"
     ]
    },
    {
     "data": {
      "text/plain": [
       "<keras.callbacks.callbacks.History at 0x7f83f4171f10>"
      ]
     },
     "execution_count": 5,
     "metadata": {},
     "output_type": "execute_result"
    }
   ],
   "source": [
    "from IPython.display import display\n",
    "from PIL import Image\n",
    "model.fit_generator(\n",
    "        train_generator,\n",
    "        steps_per_epoch=15,\n",
    "        epochs=100,\n",
    "        validation_data=test_generator,\n",
    "        validation_steps=5)"
   ]
  },
  {
   "cell_type": "code",
   "execution_count": 6,
   "metadata": {},
   "outputs": [
    {
     "name": "stdout",
     "output_type": "stream",
     "text": [
      "-- Evaluate --\n",
      "accuracy: 100.00%\n"
     ]
    }
   ],
   "source": [
    "print(\"-- Evaluate --\")\n",
    "scores = model.evaluate_generator(test_generator, steps=5)\n",
    "print(\"%s: %.2f%%\" %(model.metrics_names[1], scores[1]*100))\n"
   ]
  },
  {
   "cell_type": "code",
   "execution_count": 7,
   "metadata": {
    "scrolled": true
   },
   "outputs": [
    {
     "name": "stdout",
     "output_type": "stream",
     "text": [
      "-- Predict --\n",
      "{'circle': 0, 'rectangle': 1, 'triangle': 2}\n",
      "[[0.000 0.004 0.996]\n",
      " [0.000 0.000 1.000]\n",
      " [0.000 0.000 1.000]\n",
      " [0.917 0.000 0.083]\n",
      " [1.000 0.000 0.000]\n",
      " [0.000 1.000 0.000]\n",
      " [0.000 0.000 1.000]\n",
      " [0.000 1.000 0.000]\n",
      " [0.000 1.000 0.000]\n",
      " [0.000 0.000 1.000]\n",
      " [0.009 0.701 0.289]\n",
      " [1.000 0.000 0.000]\n",
      " [1.000 0.000 0.000]\n",
      " [1.000 0.000 0.000]\n",
      " [0.000 1.000 0.000]]\n"
     ]
    }
   ],
   "source": [
    "print(\"-- Predict --\")\n",
    "output = model.predict_generator(test_generator, steps=5)\n",
    "np.set_printoptions(formatter={'float': lambda x: \"{0:0.3f}\".format(x)})\n",
    "print(test_generator.class_indices)\n",
    "print(output)\n"
   ]
  },
  {
   "cell_type": "code",
   "execution_count": null,
   "metadata": {},
   "outputs": [],
   "source": []
  }
 ],
 "metadata": {
  "kernelspec": {
   "display_name": "Python [conda env:vdsr] *",
   "language": "python",
   "name": "conda-env-vdsr-py"
  },
  "language_info": {
   "codemirror_mode": {
    "name": "ipython",
    "version": 3
   },
   "file_extension": ".py",
   "mimetype": "text/x-python",
   "name": "python",
   "nbconvert_exporter": "python",
   "pygments_lexer": "ipython3",
   "version": "3.7.5"
  }
 },
 "nbformat": 4,
 "nbformat_minor": 2
}
